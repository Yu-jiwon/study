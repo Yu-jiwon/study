{
  "nbformat": 4,
  "nbformat_minor": 0,
  "metadata": {
    "colab": {
      "provenance": [],
      "authorship_tag": "ABX9TyNvAZ0opRRIL5ZpVCLCTHP1",
      "include_colab_link": true
    },
    "kernelspec": {
      "name": "python3",
      "display_name": "Python 3"
    },
    "language_info": {
      "name": "python"
    }
  },
  "cells": [
    {
      "cell_type": "markdown",
      "metadata": {
        "id": "view-in-github",
        "colab_type": "text"
      },
      "source": [
        "<a href=\"https://colab.research.google.com/github/Yu-jiwon/study/blob/main/DFSBFS_0316.ipynb\" target=\"_parent\"><img src=\"https://colab.research.google.com/assets/colab-badge.svg\" alt=\"Open In Colab\"/></a>"
      ]
    },
    {
      "cell_type": "code",
      "execution_count": 3,
      "metadata": {
        "colab": {
          "base_uri": "https://localhost:8080/"
        },
        "id": "aZRb8m2_E3AU",
        "outputId": "c74469ff-afbd-4436-8f8e-5fdad7cdcb97"
      },
      "outputs": [
        {
          "output_type": "stream",
          "name": "stdout",
          "text": [
            "3 3\n",
            "1 0 2\n",
            "0 0 0\n",
            "3 0 0\n",
            "2 3 2\n",
            "3\n"
          ]
        }
      ],
      "source": [
        "# 경쟁적 전염\n",
        "from collections import deque\n",
        "n, k = map(int, input().split())\n",
        "test = []\n",
        "for i in range(n):\n",
        "  test.append(list(map(int,input().split())))\n",
        "\n",
        "ts,tx,ty = map(int,input().split())\n",
        "\n",
        "virus=[]\n",
        "for i in range(n):\n",
        "  for j in range(n):\n",
        "    if test[i][j]!=0:\n",
        "      virus.append((test[i][j],0,i,j))\n",
        "\n",
        "virus.sort()\n",
        "q=deque(virus)\n",
        "\n",
        "dx=[-1,1,0,0]\n",
        "dy=[0,0,-1,1] #상하좌우\n",
        "\n",
        "while q:\n",
        "  v,s,x,y=q.popleft()\n",
        "  if s==ts:\n",
        "    break\n",
        "\n",
        "  for i in range(4):\n",
        "    nx = x+dx[i]\n",
        "    ny = y+dy[i]\n",
        "    if nx>=0 and nx<n and ny>=0 and ny<n:\n",
        "      if test[nx][ny]==0:\n",
        "        test[nx][ny]=v\n",
        "        q.append((test[nx][ny],s+1,nx,ny))\n",
        "\n",
        "print(test[tx-1][ty-1])"
      ]
    },
    {
      "cell_type": "code",
      "source": [
        "n, k = map(int, input().split())\n",
        "print(n,k)"
      ],
      "metadata": {
        "colab": {
          "base_uri": "https://localhost:8080/"
        },
        "id": "JHmjcdM1TPO4",
        "outputId": "8cbd3a99-ee9b-45de-f76d-1b04bd4f0939"
      },
      "execution_count": 2,
      "outputs": [
        {
          "output_type": "stream",
          "name": "stdout",
          "text": [
            "3 4\n",
            "3 4\n"
          ]
        }
      ]
    },
    {
      "cell_type": "code",
      "source": [],
      "metadata": {
        "id": "_tR9iU2fTjfh"
      },
      "execution_count": null,
      "outputs": []
    }
  ]
}