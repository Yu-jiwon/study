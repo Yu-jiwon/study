{
  "nbformat": 4,
  "nbformat_minor": 0,
  "metadata": {
    "colab": {
      "provenance": [],
      "authorship_tag": "ABX9TyMaWWI0UTtDR29zeN168XNR",
      "include_colab_link": true
    },
    "kernelspec": {
      "name": "python3",
      "display_name": "Python 3"
    },
    "language_info": {
      "name": "python"
    }
  },
  "cells": [
    {
      "cell_type": "markdown",
      "metadata": {
        "id": "view-in-github",
        "colab_type": "text"
      },
      "source": [
        "<a href=\"https://colab.research.google.com/github/Yu-jiwon/study/blob/main/%EC%BD%94%ED%85%8C%EC%97%B0%EC%8A%B5_0303_%EC%8B%A4%EC%A0%84.ipynb\" target=\"_parent\"><img src=\"https://colab.research.google.com/assets/colab-badge.svg\" alt=\"Open In Colab\"/></a>"
      ]
    },
    {
      "cell_type": "code",
      "execution_count": null,
      "metadata": {
        "colab": {
          "base_uri": "https://localhost:8080/"
        },
        "id": "qoaWY2t7z5Or",
        "outputId": "318a712b-6c8d-4e27-9caf-d8978476620a"
      },
      "outputs": [
        {
          "output_type": "stream",
          "name": "stdout",
          "text": [
            "5\n",
            "R R R U D D\n",
            "3 4\n"
          ]
        }
      ],
      "source": [
        "#상하좌우\n",
        "n = int(input())\n",
        "plan = list(input().split())\n",
        "\n",
        "x,y = 1,1\n",
        "dx = [0,0,-1,1]\n",
        "dy = [-1,1,0,0]\n",
        "move=['L','R','U','D']\n",
        "\n",
        "for i in range(len(plan)):\n",
        "  for j in range(len(move)):\n",
        "    if plan[i]==move[j]:\n",
        "      nx = x+dx[j]\n",
        "      ny = y+dy[j]\n",
        "      if nx<1 or nx>n or ny<1 or ny>n:\n",
        "        continue\n",
        "      x,y = nx,ny\n",
        "print(x,y)\n"
      ]
    },
    {
      "cell_type": "code",
      "source": [
        "# 시간\n",
        "n = int(input())\n",
        "cnt=0\n",
        "for i in range(n+1):\n",
        "  for j in range(60):\n",
        "    for k in range(60):\n",
        "      if '3' in str(i)+str(j)+str(k):\n",
        "        cnt+=1\n",
        "print(cnt)"
      ],
      "metadata": {
        "colab": {
          "base_uri": "https://localhost:8080/"
        },
        "id": "7Kj0OzYPAB8W",
        "outputId": "1615bdb0-52ad-4159-9ea7-d0878160f866"
      },
      "execution_count": null,
      "outputs": [
        {
          "output_type": "stream",
          "name": "stdout",
          "text": [
            "5\n",
            "11475\n"
          ]
        }
      ]
    },
    {
      "cell_type": "code",
      "source": [
        "# 왕실의 나이트\n",
        "start = input()\n",
        "x = int(start[1])\n",
        "y = int(ord(start[0]))-int(ord('a'))+1\n",
        "\n",
        "move = [(-2,-1),(-1,-2),(1,-2),(2,-1),(2,1),(1,2),(-1,2),(-2,1)]\n",
        "\n",
        "cnt = 0\n",
        "for i in move:\n",
        "  nx = x+i[0]\n",
        "  ny = y+i[1]\n",
        "  if nx>=1 and nx<=8 and ny<=8 and ny>=1:\n",
        "    cnt+=1\n",
        "print(cnt)"
      ],
      "metadata": {
        "colab": {
          "base_uri": "https://localhost:8080/"
        },
        "id": "Emo4BVxQDlTs",
        "outputId": "a539f698-55d2-4b0d-fcd5-9b8489876bae"
      },
      "execution_count": null,
      "outputs": [
        {
          "output_type": "stream",
          "name": "stdout",
          "text": [
            "a1\n",
            "2\n"
          ]
        }
      ]
    },
    {
      "cell_type": "code",
      "source": [
        "# 게임 개발\n",
        "n,m = input().split()\n",
        "n=int(n)\n",
        "m=int(m)\n",
        "a,b,direct = map(int, input().split())\n",
        "arr=[]\n",
        "for i in range(n):\n",
        "    arr.append(list(map(int,input().split())))\n",
        "\n",
        "dx=[-1,0,1,0]\n",
        "dy=[0,1,0,-1]\n",
        "move = [0,1,2,3] #북, 동, 남, 서\n",
        "\n",
        "d = [[0]*m for _ in range(n)]\n",
        "d[a][b]=1\n",
        "\n",
        "cnt=1\n",
        "turn_time= 0\n",
        "while True:\n",
        "  direct-=1\n",
        "  if direct==-1:\n",
        "    direct=3\n",
        "  nx=a+dx[direct]\n",
        "  ny=b+dx[direct]\n",
        "  if d[nx][ny]==0 and arr[nx][ny]==0:\n",
        "    d[nx][ny]=1\n",
        "    a,b = nx,ny\n",
        "    cnt+=1\n",
        "    turn_time=0\n",
        "    continue\n",
        "  else:\n",
        "    turn_time+=1\n",
        "  if turn_time==4:\n",
        "    nx = a-dx[direct]\n",
        "    ny = b-dy[direct]\n",
        "    if arr[nx][ny]==0:\n",
        "      a,b=nx,ny\n",
        "    else:\n",
        "      break\n",
        "    turn_time=0\n",
        "print(cnt)"
      ],
      "metadata": {
        "colab": {
          "base_uri": "https://localhost:8080/"
        },
        "id": "_jURFLxbDldr",
        "outputId": "4d8ee804-3c37-4326-d5f6-87f593826f0c"
      },
      "execution_count": 4,
      "outputs": [
        {
          "output_type": "stream",
          "name": "stdout",
          "text": [
            "4 4\n",
            "1 1 0\n",
            "1 1 1 1\n",
            "1 0 0 1\n",
            "1 1 0 1\n",
            "1 1 1 1\n",
            "3\n"
          ]
        }
      ]
    },
    {
      "cell_type": "code",
      "source": [],
      "metadata": {
        "id": "FPgOU4U-P5YC"
      },
      "execution_count": null,
      "outputs": []
    }
  ]
}