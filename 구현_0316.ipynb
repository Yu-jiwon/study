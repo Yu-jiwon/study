{
  "nbformat": 4,
  "nbformat_minor": 0,
  "metadata": {
    "colab": {
      "provenance": [],
      "authorship_tag": "ABX9TyNslBLLqvF2gxYVqR2tTzg0",
      "include_colab_link": true
    },
    "kernelspec": {
      "name": "python3",
      "display_name": "Python 3"
    },
    "language_info": {
      "name": "python"
    }
  },
  "cells": [
    {
      "cell_type": "markdown",
      "metadata": {
        "id": "view-in-github",
        "colab_type": "text"
      },
      "source": [
        "<a href=\"https://colab.research.google.com/github/Yu-jiwon/study/blob/main/%EA%B5%AC%ED%98%84_0316.ipynb\" target=\"_parent\"><img src=\"https://colab.research.google.com/assets/colab-badge.svg\" alt=\"Open In Colab\"/></a>"
      ]
    },
    {
      "cell_type": "code",
      "execution_count": 2,
      "metadata": {
        "colab": {
          "base_uri": "https://localhost:8080/"
        },
        "id": "Q4LIOXBSd11h",
        "outputId": "5179fa25-99b1-4317-e569-566b509695ba"
      },
      "outputs": [
        {
          "output_type": "stream",
          "name": "stdout",
          "text": [
            "6\n",
            "3\n",
            "3 4\n",
            "2 5\n",
            "5 3\n",
            "3\n",
            "3 D\n",
            "15 L\n",
            "17 D\n",
            "9\n"
          ]
        }
      ],
      "source": [
        "#뱀\n",
        "n = int(input())\n",
        "k = int(input())\n",
        "\n",
        "board = [[0]*(n+1) for _ in range(n+1)]\n",
        "\n",
        "for i in range(k):\n",
        "  a,b=map(int,input().split())\n",
        "  board[a][b]=2 #apple\n",
        "\n",
        "l = int(input())\n",
        "info=[]\n",
        "for i in range(l):\n",
        "  x,c= input().split()\n",
        "  info.append((int(x),c))\n",
        "\n",
        "dx=[0,1,0,-1]\n",
        "dy=[1,0,-1,0]\n",
        "\n",
        "def turn(direction,c):\n",
        "  if c=='L':\n",
        "    direction=(direction-1)%4\n",
        "  if c=='D':\n",
        "    direction=(direction+1)%4\n",
        "  return direction\n",
        "\n",
        "x,y = 1,1\n",
        "board[x][y]=1\n",
        "direction=0\n",
        "time=0\n",
        "index=0\n",
        "q = [(x,y)]\n",
        "\n",
        "while True:\n",
        "  nx=x+dx[direction]\n",
        "  ny=y+dy[direction]\n",
        "  if nx>0 and nx<=n and ny>0 and ny<=n and board[nx][ny]!=1:\n",
        "    if board[nx][ny]==2:\n",
        "      board[nx][ny]=1\n",
        "      q.append((nx,ny))\n",
        "    if board[nx][ny]!=2:\n",
        "      board[nx][ny]=1\n",
        "      q.append((nx,ny))\n",
        "      qx,qy=q.pop(0)\n",
        "      board[qx][qy]=0\n",
        "  else:\n",
        "    time+=1\n",
        "    break\n",
        "  x,y=nx,ny\n",
        "  time+=1\n",
        "  if index<1 and time==info[index][0]:\n",
        "    direction = turn(direction,info[index][1])\n",
        "    index+=1\n",
        "  \n",
        "print(time)"
      ]
    },
    {
      "cell_type": "code",
      "source": [
        " "
      ],
      "metadata": {
        "id": "OFwlB05_rbC8"
      },
      "execution_count": null,
      "outputs": []
    }
  ]
}