{
  "nbformat": 4,
  "nbformat_minor": 0,
  "metadata": {
    "colab": {
      "provenance": [],
      "authorship_tag": "ABX9TyNj+8rAoGyHCoPsv9XjPZHN",
      "include_colab_link": true
    },
    "kernelspec": {
      "name": "python3",
      "display_name": "Python 3"
    },
    "language_info": {
      "name": "python"
    }
  },
  "cells": [
    {
      "cell_type": "markdown",
      "metadata": {
        "id": "view-in-github",
        "colab_type": "text"
      },
      "source": [
        "<a href=\"https://colab.research.google.com/github/Yu-jiwon/study/blob/main/%EA%B7%B8%EB%A6%AC%EB%94%94_0316.ipynb\" target=\"_parent\"><img src=\"https://colab.research.google.com/assets/colab-badge.svg\" alt=\"Open In Colab\"/></a>"
      ]
    },
    {
      "cell_type": "code",
      "execution_count": 2,
      "metadata": {
        "colab": {
          "base_uri": "https://localhost:8080/"
        },
        "id": "-XMX2qXl9vwT",
        "outputId": "9a833b08-7073-40b3-8b76-fb84e98c5dad"
      },
      "outputs": [
        {
          "output_type": "stream",
          "name": "stdout",
          "text": [
            "5\n",
            "3 2 1 1 9\n",
            "8\n"
          ]
        }
      ],
      "source": [
        "# 만들수 없는 금액\n",
        "n = int(input())\n",
        "coin = list(map(int, input().split()))\n",
        "\n",
        "coin.sort()\n",
        "target = 1\n",
        "for i in coin :\n",
        "  if target<i:\n",
        "    break\n",
        "  target+=i\n",
        "\n",
        "print(target)"
      ]
    },
    {
      "cell_type": "code",
      "source": [
        "# 모험가 길드\n",
        "n = int(input())\n",
        "scare = list(map(int, input().split()))\n",
        "scare.sort()\n",
        "cnt = 0\n",
        "result=0\n",
        "for i in scare:\n",
        "  cnt+=1\n",
        "  if cnt>=i:\n",
        "    result+=1\n",
        "    cnt=0\n",
        "print(result)"
      ],
      "metadata": {
        "colab": {
          "base_uri": "https://localhost:8080/"
        },
        "id": "RmOfcR2iHDgY",
        "outputId": "b45b7b3c-af06-40d9-9351-7722449b8b7e"
      },
      "execution_count": 4,
      "outputs": [
        {
          "output_type": "stream",
          "name": "stdout",
          "text": [
            "5\n",
            "2 3 1 2 2\n",
            "2\n"
          ]
        }
      ]
    },
    {
      "cell_type": "code",
      "source": [
        "# 곱하기 혹은 더하기\n",
        "s = input()\n",
        "result=int(s[0])\n",
        "for i in range(1,len(s)):\n",
        "  if i==0 or (i-1)==0:\n",
        "    result+=int(s[i])\n",
        "  else:\n",
        "    result*=int(s[i])\n",
        "print(result)"
      ],
      "metadata": {
        "colab": {
          "base_uri": "https://localhost:8080/"
        },
        "id": "Dz4xe4OnJTU8",
        "outputId": "3f7b1604-f0cc-458b-99a9-10b8c4602057"
      },
      "execution_count": 5,
      "outputs": [
        {
          "output_type": "stream",
          "name": "stdout",
          "text": [
            "02984\n",
            "576\n"
          ]
        }
      ]
    },
    {
      "cell_type": "code",
      "source": [
        "# 문자열뒤집기\n",
        "s = input()\n",
        "m1=0\n",
        "m0=0\n",
        "\n",
        "if s[0]=='1':\n",
        "  m0+=1\n",
        "else:\n",
        "  m1+=1\n",
        "\n",
        "for i in range(len(s)-1):\n",
        "  if s[i]!=s[i+1]:\n",
        "    if s[i+1]=='1':\n",
        "      m0+=1\n",
        "    else:\n",
        "      m1+=1\n",
        "print(min(m0,m1))"
      ],
      "metadata": {
        "colab": {
          "base_uri": "https://localhost:8080/"
        },
        "id": "nPXqHSyDK0i_",
        "outputId": "88daf056-0a11-4e62-8a13-6e3ab26a6223"
      },
      "execution_count": 6,
      "outputs": [
        {
          "output_type": "stream",
          "name": "stdout",
          "text": [
            "0001100\n",
            "1\n"
          ]
        }
      ]
    },
    {
      "cell_type": "code",
      "source": [
        "n,m = map(int, input().split())\n",
        "k = list(map(int, input().split()))\n",
        "cnt=0\n",
        "for i in range(n-1):\n",
        "  for j in range(i+1,n):\n",
        "    if k[i]!=k[j]:\n",
        "      cnt+=1\n",
        "print(cnt)"
      ],
      "metadata": {
        "colab": {
          "base_uri": "https://localhost:8080/"
        },
        "id": "Rp7H_HWfPIuw",
        "outputId": "239263d5-c01b-41d5-a4dc-2a0af119a01c"
      },
      "execution_count": 8,
      "outputs": [
        {
          "output_type": "stream",
          "name": "stdout",
          "text": [
            "8 5\n",
            "1 5 4 3 2 4 5 2\n",
            "25\n"
          ]
        }
      ]
    },
    {
      "cell_type": "code",
      "source": [
        "#무지 먹방라이브\n",
        "food_times=[3, 1, 2]\n",
        "k=5\n",
        "\n",
        "def solution(food_times, k):\n",
        "    answer = 0\n",
        "    turn=0\n",
        "    for time in range(k+1):\n",
        "        if food_times[turn]!=0:\n",
        "            food_times[turn]-=1\n",
        "        \n",
        "        if turn<len(food_times)-1:\n",
        "            turn+=1\n",
        "        else:\n",
        "            turn=0\n",
        "    return turn+1\n",
        "\n",
        "solution(food_times,k)"
      ],
      "metadata": {
        "colab": {
          "base_uri": "https://localhost:8080/"
        },
        "id": "nccGvjMoQX0L",
        "outputId": "5bf8f3ad-9575-4f08-8a41-7b5a46cde539"
      },
      "execution_count": 12,
      "outputs": [
        {
          "output_type": "execute_result",
          "data": {
            "text/plain": [
              "1"
            ]
          },
          "metadata": {},
          "execution_count": 12
        }
      ]
    },
    {
      "cell_type": "code",
      "source": [],
      "metadata": {
        "id": "pGmPk3d6WUs0"
      },
      "execution_count": null,
      "outputs": []
    }
  ]
}